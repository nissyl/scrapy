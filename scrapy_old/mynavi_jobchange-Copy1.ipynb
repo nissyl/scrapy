{
 "cells": [
  {
   "cell_type": "code",
   "execution_count": 18,
   "metadata": {
    "collapsed": true
   },
   "outputs": [],
   "source": [
    "import urllib, requests\n",
    "import csv #CSVを扱えるようにするため\n",
    "import re #文字列処理をしやすくするため\n",
    "import time #処理を一時的に止めるため\n",
    "import socks,socket #IPを偽装するため\n",
    "import sys #ファイルのパスの情報を扱うため\n",
    "from bs4 import BeautifulSoup #タグなどの抽出のため\n",
    "from urllib.request import urlopen #情報取得のため\n",
    "from requests import ConnectionError,Timeout #エラーが起きた際に回避するため\n",
    "from urllib.error import HTTPError, URLError #エラーが起きた際に回避するため\n",
    "from ssl import SSLError #エラーが起きた際に回避するため\n",
    "import http.client #情報取得のため\n",
    "import chardet #文字列を扱いやすくするライブラリ\n",
    "from socks import SOCKS5Error #!pip install PySocks #エラーが起きた際に回避するため\n",
    "socks.setdefaultproxy(socks.PROXY_TYPE_SOCKS5, \"127.0.0.1\", 9150) #IPを偽装するため\n",
    "socket.socket = socks.socksocket #IPを偽装するため\n",
    "sys.setrecursionlimit(10000) #処理量の多くなるようなサイトの時に取得が途中で止まらないようにするため"
   ]
  },
  {
   "cell_type": "code",
   "execution_count": 6,
   "metadata": {
    "collapsed": true
   },
   "outputs": [],
   "source": [
    "import os"
   ]
  },
  {
   "cell_type": "code",
   "execution_count": 11,
   "metadata": {},
   "outputs": [
    {
     "data": {
      "text/plain": [
       "'/Users/ryosuke'"
      ]
     },
     "execution_count": 11,
     "metadata": {},
     "output_type": "execute_result"
    }
   ],
   "source": [
    "os.getcwd()"
   ]
  },
  {
   "cell_type": "code",
   "execution_count": 14,
   "metadata": {},
   "outputs": [
    {
     "ename": "FileNotFoundError",
     "evalue": "[Errno 2] No such file or directory: 'C:\\x07naconda3'",
     "output_type": "error",
     "traceback": [
      "\u001b[0;31m---------------------------------------------------------------------------\u001b[0m",
      "\u001b[0;31mFileNotFoundError\u001b[0m                         Traceback (most recent call last)",
      "\u001b[0;32m<ipython-input-14-b0e296f66cb6>\u001b[0m in \u001b[0;36m<module>\u001b[0;34m()\u001b[0m\n\u001b[0;32m----> 1\u001b[0;31m \u001b[0mos\u001b[0m\u001b[0;34m.\u001b[0m\u001b[0mchdir\u001b[0m\u001b[0;34m(\u001b[0m\u001b[0;34m\"C:\\anaconda3\"\u001b[0m\u001b[0;34m)\u001b[0m\u001b[0;34m\u001b[0m\u001b[0m\n\u001b[0m",
      "\u001b[0;31mFileNotFoundError\u001b[0m: [Errno 2] No such file or directory: 'C:\\x07naconda3'"
     ]
    }
   ],
   "source": [
    "os.chdir(\"C:\\anaconda3\")"
   ]
  },
  {
   "cell_type": "code",
   "execution_count": 19,
   "metadata": {},
   "outputs": [
    {
     "ename": "AttributeError",
     "evalue": "module 'selenium.webdriver.chrome.webdriver' has no attribute 'WebDrive'",
     "output_type": "error",
     "traceback": [
      "\u001b[0;31m---------------------------------------------------------------------------\u001b[0m",
      "\u001b[0;31mAttributeError\u001b[0m                            Traceback (most recent call last)",
      "\u001b[0;32m<ipython-input-19-139b748e0938>\u001b[0m in \u001b[0;36m<module>\u001b[0;34m()\u001b[0m\n\u001b[0;32m----> 1\u001b[0;31m \u001b[0mdriver\u001b[0m \u001b[0;34m=\u001b[0m \u001b[0mwebdriver\u001b[0m\u001b[0;34m.\u001b[0m\u001b[0mWebDrive\u001b[0m\u001b[0;34m(\u001b[0m\u001b[0mexecutable_path\u001b[0m\u001b[0;34m=\u001b[0m\u001b[0;34m'C:\\anaconda3\\chromedriver'\u001b[0m\u001b[0;34m)\u001b[0m\u001b[0;34m\u001b[0m\u001b[0m\n\u001b[0m",
      "\u001b[0;31mAttributeError\u001b[0m: module 'selenium.webdriver.chrome.webdriver' has no attribute 'WebDrive'"
     ]
    }
   ],
   "source": [
    "driver = webdriver.WebDrive(executable_path='C:/anaconda3\\bin\\chromedriver')"
   ]
  },
  {
   "cell_type": "code",
   "execution_count": 15,
   "metadata": {},
   "outputs": [
    {
     "ename": "NameError",
     "evalue": "name 'driver' is not defined",
     "output_type": "error",
     "traceback": [
      "\u001b[0;31m---------------------------------------------------------------------------\u001b[0m",
      "\u001b[0;31mNameError\u001b[0m                                 Traceback (most recent call last)",
      "\u001b[0;32m<ipython-input-15-142a51d30164>\u001b[0m in \u001b[0;36m<module>\u001b[0;34m()\u001b[0m\n\u001b[0;32m----> 1\u001b[0;31m \u001b[0mdriver\u001b[0m\u001b[0;34m.\u001b[0m\u001b[0mget\u001b[0m\u001b[0;34m(\u001b[0m\u001b[0;34m'https://researchmap.jp/search/'\u001b[0m\u001b[0;34m)\u001b[0m\u001b[0;34m\u001b[0m\u001b[0m\n\u001b[0m",
      "\u001b[0;31mNameError\u001b[0m: name 'driver' is not defined"
     ]
    }
   ],
   "source": [
    "driver.get('https://researchmap.jp/search/')"
   ]
  },
  {
   "cell_type": "code",
   "execution_count": 39,
   "metadata": {},
   "outputs": [
    {
     "name": "stderr",
     "output_type": "stream",
     "text": [
      "C:\\Users\\shota.kasamaki\\Anaconda3\\lib\\site-packages\\bs4\\__init__.py:181: UserWarning: No parser was explicitly specified, so I'm using the best available HTML parser for this system (\"lxml\"). This usually isn't a problem, but if you run this code on another system, or in a different virtual environment, it may use a different parser and behave differently.\n",
      "\n",
      "The code that caused this warning is on line 193 of the file C:\\Users\\shota.kasamaki\\Anaconda3\\lib\\runpy.py. To get rid of this warning, change code that looks like this:\n",
      "\n",
      " BeautifulSoup(YOUR_MARKUP})\n",
      "\n",
      "to this:\n",
      "\n",
      " BeautifulSoup(YOUR_MARKUP, \"lxml\")\n",
      "\n",
      "  markup_type=markup_type))\n"
     ]
    }
   ],
   "source": [
    "urls=[]\n",
    "for i in range(1,5):\n",
    "    for s in soup.find_all(\"a\",class_=\"treasureData\"):\n",
    "        if(s.string==\"詳細を見る\"):\n",
    "            html = driver.page_source\n",
    "            soup=bs(html)\n",
    "            urls.append([\"https://tenshoku.mynavi.jp/\"+str(s).split('href=\"/')[1].split('/')[0]+\"/\"])\n",
    "    driver.find_element_by_xpath('//*[@id=\"snsview_id_active_center_0\"]/div[3]/ul/li['+str(i)+']/a.click())\n",
    "f = open('some.csv', 'w')\n",
    "writer = csv.writer(f, lineterminator='\\n')\n",
    "writer.writerows(urls)\n",
    "f.close()\n",
    "\n"
   ]
  },
  {
   "cell_type": "code",
   "execution_count": 109,
   "metadata": {
    "scrolled": true
   },
   "outputs": [
    {
     "name": "stdout",
     "output_type": "stream",
     "text": [
      "03-5530-7372（直通）\n"
     ]
    }
   ],
   "source": [
    "for url in urls:\n",
    "    data=[]\n",
    "    html=urllib.request.urlopen(url).read()\n",
    "    soup=bs(html,\"lxml\")\n",
    "    for tr in soup.find_all(\"tr\"):\n",
    "        try:\n",
    "            if(tr.th.string==\"電話番号\"):\n",
    "                data.append(tr.td.string)\n",
    "            if(tr.th.string==\"住所\"):\n",
    "                data.append(tr.td)\n",
    "            if(tr.th.string==\"E-mail\"):\n",
    "                mail=\"\"\n",
    "                th=tr.td.script.string.split(\"Code(\")[1].split(\")\")[0].split(\",\")\n",
    "                for m in th:\n",
    "                    mail+=chr(int(m))\n",
    "                data.append(mail)\n",
    "            if(tr.th.string==\"備考\"):\n",
    "                data.append(str(tr.td).replace(\"<br/>\",\" \").replace(\"<td>\",\"\").replace(\"</td>\",\"\").replace(\"　\",\"\"))\n",
    "        except:\n",
    "            pass"
   ]
  }
 ],
 "metadata": {
  "kernelspec": {
   "display_name": "Python 3",
   "language": "python",
   "name": "python3"
  },
  "language_info": {
   "codemirror_mode": {
    "name": "ipython",
    "version": 3
   },
   "file_extension": ".py",
   "mimetype": "text/x-python",
   "name": "python",
   "nbconvert_exporter": "python",
   "pygments_lexer": "ipython3",
   "version": "3.6.3"
  }
 },
 "nbformat": 4,
 "nbformat_minor": 2
}
