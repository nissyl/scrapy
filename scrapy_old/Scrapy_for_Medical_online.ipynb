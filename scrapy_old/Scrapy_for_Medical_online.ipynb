{
 "cells": [
  {
   "cell_type": "code",
   "execution_count": null,
   "metadata": {
    "collapsed": true
   },
   "outputs": [],
   "source": [
    "from selenium import webdriver\n",
    "from selenium.webdriver.common.keys import Keys\n",
    "from selenium.common.exceptions import NoSuchElementException,TimeoutException\n",
    "from selenium.webdriver.common.desired_capabilities import DesiredCapabilities\n",
    "\n",
    "\n",
    "import csv, random, time\n",
    "from selenium.webdriver.chrome import webdriver, options\n",
    "from selenium.webdriver.chrome.options import Options\n",
    "import selenium.webdriver.support.ui as ui\n",
    "from selenium.webdriver.support.ui import Select\n",
    "from selenium.webdriver.common.alert import Alert #ポップアップでOKを押すために利用\n",
    "from bs4 import BeautifulSoup as bs\n",
    "import urllib\n",
    "from bs4 import BeautifulSoup\n",
    "from selenium import webdriver"
   ]
  },
  {
   "cell_type": "code",
   "execution_count": 1,
   "metadata": {},
   "outputs": [
    {
     "ename": "NameError",
     "evalue": "name 'webdriver' is not defined",
     "output_type": "error",
     "traceback": [
      "\u001b[1;31m---------------------------------------------------------------------------\u001b[0m",
      "\u001b[1;31mNameError\u001b[0m                                 Traceback (most recent call last)",
      "\u001b[1;32m<ipython-input-1-3f1651be89b8>\u001b[0m in \u001b[0;36m<module>\u001b[1;34m()\u001b[0m\n\u001b[1;32m----> 1\u001b[1;33m \u001b[0mdriver\u001b[0m \u001b[1;33m=\u001b[0m \u001b[0mwebdriver\u001b[0m\u001b[1;33m.\u001b[0m\u001b[0mPhantomJS\u001b[0m\u001b[1;33m(\u001b[0m\u001b[0mexecutable_path\u001b[0m\u001b[1;33m=\u001b[0m\u001b[1;34mr\"C:\\phantomjs\\bin\\phantomjs.exe\"\u001b[0m\u001b[1;33m)\u001b[0m\u001b[1;33m\u001b[0m\u001b[0m\n\u001b[0m",
      "\u001b[1;31mNameError\u001b[0m: name 'webdriver' is not defined"
     ]
    }
   ],
   "source": [
    "driver = webdriver.PhantomJS(executable_path=r\"C:\\phantomjs\\bin\\phantomjs.exe\")"
   ]
  },
  {
   "cell_type": "code",
   "execution_count": null,
   "metadata": {
    "collapsed": true
   },
   "outputs": [],
   "source": [
    "from selenium import webdriver\n",
    "from selenium.webdriver.common.keys import Keys\n",
    "from selenium.common.exceptions import NoSuchElementException,TimeoutException\n",
    "from selenium.webdriver.common.desired_capabilities import DesiredCapabilities\n",
    "\n",
    "\n",
    "import csv, random, time\n",
    "from selenium.webdriver.chrome import webdriver, options\n",
    "from selenium.webdriver.chrome.options import Options\n",
    "import selenium.webdriver.support.ui as ui\n",
    "from selenium.webdriver.support.ui import Select\n",
    "from selenium.webdriver.common.alert import Alert #ポップアップでOKを押すために利用\n",
    "from bs4 import BeautifulSoup as bs\n",
    "import urllib\n",
    "from bs4 import BeautifulSoup\n",
    "from selenium import webdriver\n",
    "options = options.Options()\n",
    "options.add_argument('--user-agent=\"Mozilla/5.0 (Windows NT 10.0; WOW64) AppleWebKit/537.36 (KHTML, like Gecko) Chrome/55.0.2883.87 Safari/537.36')\n",
    "\n",
    "\n",
    "driver = webdriver.WebDriver(executable_path=\"C:/chromedriver.exe\",chrome_options=options)\n",
    "driver.get('http://mol.medicalonline.jp/search/advanced')"
   ]
  },
  {
   "cell_type": "code",
   "execution_count": null,
   "metadata": {
    "collapsed": true
   },
   "outputs": [],
   "source": [
    "import urllib, requests, csv, re, time, socks,socket, sys\n",
    "from bs4 import BeautifulSoup\n",
    "from urllib.request import urlopen\n",
    "from requests import ConnectionError,Timeout\n",
    "from urllib.error import HTTPError, URLError\n",
    "from ssl import SSLError\n",
    "import http.client\n",
    "import chardet\n",
    "import pandas as pd"
   ]
  },
  {
   "cell_type": "code",
   "execution_count": null,
   "metadata": {
    "collapsed": true
   },
   "outputs": [],
   "source": [
    "thesis_data = pd.DataFrame(columns=[\"url\",\"title\",\"Authors_and_Affiliations\"])"
   ]
  },
  {
   "cell_type": "code",
   "execution_count": null,
   "metadata": {
    "collapsed": true
   },
   "outputs": [],
   "source": [
    "for i in range(1,20):\n",
    "    time.sleep(15.0) #sleep(秒指定)\n",
    "    html = driver.page_source\n",
    "    soup=bs(html,'lxml')\n",
    "    \n",
    "    for content in soup.findAll('div',{'class':'result-text'}):\n",
    "        df = pd.DataFrame([[html,\n",
    "                    str(content.find('h3').text),\n",
    "                    str(content.find('p'))]],\n",
    "                    columns=[\"url\",\"title\",\"Authors_and_Affiliations\"])\n",
    "        thesis_data = thesis_data.append(df)\n",
    "        \n",
    "    driver.find_element_by_xpath('//*[@id=\"contents-inner\"]/div[2]/div[2]/div/span[3]/a[1]/img').click()\n",
    "\n",
    "thesis_data = thesis_data.reset_index(drop=True)"
   ]
  },
  {
   "cell_type": "code",
   "execution_count": null,
   "metadata": {
    "collapsed": true
   },
   "outputs": [],
   "source": [
    "df1 = pd.DataFrame(thesis_data.Authors_and_Affiliations.str.split('<br/>',1).tolist(), columns = ['Authors','Affiliations'])\n",
    "df2 = pd.DataFrame(df1.Affiliations.str.split('<br/>',1).tolist(), columns = ['Affiliations','Journal'])\n",
    "df1['Affiliations'] = df2['Affiliations']\n",
    "df1['Journal'] = df2['Journal']\n",
    "df1.head(5)"
   ]
  },
  {
   "cell_type": "code",
   "execution_count": null,
   "metadata": {
    "collapsed": true
   },
   "outputs": [],
   "source": [
    "import urllib, requests\n",
    "from bs4 import BeautifulSoup\n",
    "from bs4 import NavigableString, Declaration, Comment\n",
    "from urllib.request import urlopen\n",
    "from requests import ConnectionError\n",
    "from requests.exceptions import ContentDecodingError\n",
    "from urllib.error import HTTPError, URLError"
   ]
  },
  {
   "cell_type": "code",
   "execution_count": null,
   "metadata": {
    "collapsed": true
   },
   "outputs": [],
   "source": [
    "remove_list_Authors = '<p>|\\n| |\\)'\n",
    "remove_list_Affiliations = '<p>|\\n| |\\)'\n",
    "remove_list_Jornal = re.compile(r\"<[^>]*?>|\\n| \")\n",
    "p = re.compile(u\"[一-龥-ぁ-んァ-ン],[一-龥-ぁ-んァ-ン]\")\n",
    "\n",
    "df1.Authors = df1.Authors.str.replace(remove_list_Authors,'')\n",
    "df1.Affiliations = df1.Affiliations.str.replace(remove_list_Affiliations,'')\n",
    "df1.Affiliations = df1.Affiliations.str.replace(p,' ')\n",
    "df1.Journal = df1.Journal.str.replace(remove_list_Jornal,'')\n",
    "\n",
    "df1.head(5)"
   ]
  },
  {
   "cell_type": "code",
   "execution_count": null,
   "metadata": {
    "collapsed": true
   },
   "outputs": [],
   "source": [
    "test1 = pd.DataFrame(df1.Authors.str.split(',',30).tolist())\n",
    "test1"
   ]
  },
  {
   "cell_type": "code",
   "execution_count": null,
   "metadata": {
    "collapsed": true
   },
   "outputs": [],
   "source": [
    "test2 = pd.DataFrame(df1.Affiliations.str.split(',',30).tolist())\n",
    "test2"
   ]
  },
  {
   "cell_type": "code",
   "execution_count": null,
   "metadata": {
    "collapsed": true
   },
   "outputs": [],
   "source": [
    "df3 = pd.concat([thesis_data[['title']], test1,test2],axis=1)"
   ]
  },
  {
   "cell_type": "code",
   "execution_count": null,
   "metadata": {
    "collapsed": true
   },
   "outputs": [],
   "source": [
    "df3.to_csv('子宮内膜症ver2.csv')"
   ]
  }
 ],
 "metadata": {
  "kernelspec": {
   "display_name": "Python 3",
   "language": "python",
   "name": "python3"
  },
  "language_info": {
   "codemirror_mode": {
    "name": "ipython",
    "version": 3
   },
   "file_extension": ".py",
   "mimetype": "text/x-python",
   "name": "python",
   "nbconvert_exporter": "python",
   "pygments_lexer": "ipython3",
   "version": "3.6.1"
  }
 },
 "nbformat": 4,
 "nbformat_minor": 2
}
