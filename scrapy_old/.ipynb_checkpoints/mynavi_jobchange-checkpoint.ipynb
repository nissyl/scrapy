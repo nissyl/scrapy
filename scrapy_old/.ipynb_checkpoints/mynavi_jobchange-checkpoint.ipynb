{
 "cells": [
  {
   "cell_type": "code",
   "execution_count": 7,
   "metadata": {
    "collapsed": true
   },
   "outputs": [],
   "source": [
    "import csv, random, time\n",
    "from selenium import webdriver\n",
    "from selenium.webdriver.common.keys import Keys\n",
    "from selenium.common.exceptions import NoSuchElementException,TimeoutException\n",
    "from selenium.webdriver.common.desired_capabilities import DesiredCapabilities\n",
    "from selenium.webdriver.chrome import webdriver, options\n",
    "from selenium.webdriver.chrome.options import Options\n",
    "import selenium.webdriver.support.ui as ui\n",
    "from selenium.webdriver.support.ui import Select\n",
    "from bs4 import BeautifulSoup as bs\n",
    "import urllib\n",
    "options = options.Options()\n",
    "options.add_argument('--user-agent=\"Mozilla/5.0 (Windows NT 10.0; WOW64) AppleWebKit/537.36 (KHTML, like Gecko) Chrome/55.0.2883.87 Safari/537.36')   \n"
   ]
  },
  {
   "cell_type": "code",
   "execution_count": 14,
   "metadata": {},
   "outputs": [],
   "source": [
    "import os\n",
    "os.getcwd() \n",
    "os.chdir(\"//anaconda3/bin/phantomjs/\")"
   ]
  },
  {
   "cell_type": "code",
   "execution_count": 15,
   "metadata": {},
   "outputs": [
    {
     "ename": "AttributeError",
     "evalue": "module 'selenium.webdriver.chrome.webdriver' has no attribute 'WebDrive'",
     "output_type": "error",
     "traceback": [
      "\u001b[0;31m---------------------------------------------------------------------------\u001b[0m",
      "\u001b[0;31mAttributeError\u001b[0m                            Traceback (most recent call last)",
      "\u001b[0;32m<ipython-input-15-117b7f233bd7>\u001b[0m in \u001b[0;36m<module>\u001b[0;34m()\u001b[0m\n\u001b[0;32m----> 1\u001b[0;31m \u001b[0mdriver\u001b[0m \u001b[0;34m=\u001b[0m \u001b[0mwebdriver\u001b[0m\u001b[0;34m.\u001b[0m\u001b[0mWebDrive\u001b[0m\u001b[0;34m(\u001b[0m\u001b[0mexecutable_path\u001b[0m\u001b[0;34m=\u001b[0m\u001b[0;34m'C:anaconda3/bin/phantomjs'\u001b[0m\u001b[0;34m)\u001b[0m\u001b[0;34m\u001b[0m\u001b[0m\n\u001b[0m",
      "\u001b[0;31mAttributeError\u001b[0m: module 'selenium.webdriver.chrome.webdriver' has no attribute 'WebDrive'"
     ]
    }
   ],
   "source": [
    "driver = webdriver.WebDrive(executable_path='C:anaconda3/bin/phantomjs')"
   ]
  },
  {
   "cell_type": "code",
   "execution_count": 17,
   "metadata": {},
   "outputs": [
    {
     "ename": "SyntaxError",
     "evalue": "invalid syntax (<ipython-input-17-942d8dc5f997>, line 1)",
     "output_type": "error",
     "traceback": [
      "\u001b[0;36m  File \u001b[0;32m\"<ipython-input-17-942d8dc5f997>\"\u001b[0;36m, line \u001b[0;32m1\u001b[0m\n\u001b[0;31m    driver = webdriver.()\u001b[0m\n\u001b[0m                       ^\u001b[0m\n\u001b[0;31mSyntaxError\u001b[0m\u001b[0;31m:\u001b[0m invalid syntax\n"
     ]
    }
   ],
   "source": [
    "driver = webdriver.()"
   ]
  },
  {
   "cell_type": "code",
   "execution_count": 6,
   "metadata": {},
   "outputs": [
    {
     "ename": "NameError",
     "evalue": "name 'driver' is not defined",
     "output_type": "error",
     "traceback": [
      "\u001b[0;31m---------------------------------------------------------------------------\u001b[0m",
      "\u001b[0;31mNameError\u001b[0m                                 Traceback (most recent call last)",
      "\u001b[0;32m<ipython-input-6-6abafb202453>\u001b[0m in \u001b[0;36m<module>\u001b[0;34m()\u001b[0m\n\u001b[0;32m----> 1\u001b[0;31m \u001b[0mdriver\u001b[0m\u001b[0;34m.\u001b[0m\u001b[0mget\u001b[0m\u001b[0;34m(\u001b[0m\u001b[0;34m'http://4travel.jp/dm_area_top.html'\u001b[0m\u001b[0;34m)\u001b[0m\u001b[0;34m\u001b[0m\u001b[0m\n\u001b[0m",
      "\u001b[0;31mNameError\u001b[0m: name 'driver' is not defined"
     ]
    }
   ],
   "source": [
    "driver.get('http://4travel.jp/dm_area_top.html')"
   ]
  },
  {
   "cell_type": "code",
   "execution_count": 39,
   "metadata": {},
   "outputs": [
    {
     "name": "stderr",
     "output_type": "stream",
     "text": [
      "C:\\Users\\shota.kasamaki\\Anaconda3\\lib\\site-packages\\bs4\\__init__.py:181: UserWarning: No parser was explicitly specified, so I'm using the best available HTML parser for this system (\"lxml\"). This usually isn't a problem, but if you run this code on another system, or in a different virtual environment, it may use a different parser and behave differently.\n",
      "\n",
      "The code that caused this warning is on line 193 of the file C:\\Users\\shota.kasamaki\\Anaconda3\\lib\\runpy.py. To get rid of this warning, change code that looks like this:\n",
      "\n",
      " BeautifulSoup(YOUR_MARKUP})\n",
      "\n",
      "to this:\n",
      "\n",
      " BeautifulSoup(YOUR_MARKUP, \"lxml\")\n",
      "\n",
      "  markup_type=markup_type))\n"
     ]
    }
   ],
   "source": [
    "urls=[]\n",
    "for i in range(3,5):\n",
    "    for s in soup.find_all(\"a\",class_=\"treasureData\"):\n",
    "        if(s.string==\"詳細を見る\"):\n",
    "            html = driver.page_source\n",
    "            soup=bs(html)\n",
    "            urls.append([\"https://tenshoku.mynavi.jp/\"+str(s).split('href=\"/')[1].split('/')[0]+\"/\"])\n",
    "    driver.find_element_by_xpath('//*[@id=\"content\"]/div[2]/ul/li['+str(i)+']/a').click()\n",
    "f = open('some.csv', 'w')\n",
    "writer = csv.writer(f, lineterminator='\\n')\n",
    "writer.writerows(urls)\n",
    "f.close()"
   ]
  },
  {
   "cell_type": "code",
   "execution_count": 109,
   "metadata": {
    "scrolled": true
   },
   "outputs": [
    {
     "name": "stdout",
     "output_type": "stream",
     "text": [
      "03-5530-7372（直通）\n"
     ]
    }
   ],
   "source": [
    "for url in urls:\n",
    "    data=[]\n",
    "    html=urllib.request.urlopen(url).read()\n",
    "    soup=bs(html,\"lxml\")\n",
    "    for tr in soup.find_all(\"tr\"):\n",
    "        try:\n",
    "            if(tr.th.string==\"電話番号\"):\n",
    "                data.append(tr.td.string)\n",
    "            if(tr.th.string==\"住所\"):\n",
    "                data.append(tr.td)\n",
    "            if(tr.th.string==\"E-mail\"):\n",
    "                mail=\"\"\n",
    "                th=tr.td.script.string.split(\"Code(\")[1].split(\")\")[0].split(\",\")\n",
    "                for m in th:\n",
    "                    mail+=chr(int(m))\n",
    "                data.append(mail)\n",
    "            if(tr.th.string==\"備考\"):\n",
    "                data.append(str(tr.td).replace(\"<br/>\",\" \").replace(\"<td>\",\"\").replace(\"</td>\",\"\").replace(\"　\",\"\"))\n",
    "        except:\n",
    "            pass"
   ]
  }
 ],
 "metadata": {
  "kernelspec": {
   "display_name": "Python 3",
   "language": "python",
   "name": "python3"
  },
  "language_info": {
   "codemirror_mode": {
    "name": "ipython",
    "version": 3
   },
   "file_extension": ".py",
   "mimetype": "text/x-python",
   "name": "python",
   "nbconvert_exporter": "python",
   "pygments_lexer": "ipython3",
   "version": "3.6.4"
  }
 },
 "nbformat": 4,
 "nbformat_minor": 2
}
